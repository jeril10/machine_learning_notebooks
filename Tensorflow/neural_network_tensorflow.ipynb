{
 "cells": [
  {
   "cell_type": "code",
   "execution_count": 113,
   "metadata": {},
   "outputs": [],
   "source": [
    "import tensorflow as tf"
   ]
  },
  {
   "cell_type": "code",
   "execution_count": 114,
   "metadata": {
    "scrolled": true
   },
   "outputs": [
    {
     "name": "stdout",
     "output_type": "stream",
     "text": [
      "Extracting /tmp/data/train-images-idx3-ubyte.gz\n",
      "Extracting /tmp/data/train-labels-idx1-ubyte.gz\n",
      "Extracting /tmp/data/t10k-images-idx3-ubyte.gz\n",
      "Extracting /tmp/data/t10k-labels-idx1-ubyte.gz\n"
     ]
    }
   ],
   "source": [
    "# Import MINST data\n",
    "from tensorflow.examples.tutorials.mnist import input_data\n",
    "mnist = input_data.read_data_sets(\"/tmp/data/\", one_hot=True)"
   ]
  },
  {
   "cell_type": "code",
   "execution_count": 115,
   "metadata": {
    "collapsed": true
   },
   "outputs": [],
   "source": [
    "n_nodes_hl1=40\n",
    "n_nodes_hl2=50\n",
    "n_nodes_hl3=40\n",
    "\n",
    "n_classes=10\n",
    "batch_size=100"
   ]
  },
  {
   "cell_type": "code",
   "execution_count": 116,
   "metadata": {},
   "outputs": [],
   "source": [
    "x=tf.placeholder('float', [None, 784])\n",
    "y=tf.placeholder('float')"
   ]
  },
  {
   "cell_type": "code",
   "execution_count": 117,
   "metadata": {
    "collapsed": true
   },
   "outputs": [],
   "source": [
    "def nn_model(data):\n",
    "    hidden1_layer = {'weights': tf.Variable(tf.random_normal([784, n_nodes_hl1])),\n",
    "                     'biases': tf.Variable(tf.random_normal([n_nodes_hl1]))}\n",
    "    \n",
    "    hidden2_layer = {'weights': tf.Variable(tf.random_normal([n_nodes_hl1, n_nodes_hl2])),\n",
    "                     'biases': tf.Variable(tf.random_normal([n_nodes_hl2]))}\n",
    "        \n",
    "    hidden3_layer = {'weights': tf.Variable(tf.random_normal([n_nodes_hl2, n_nodes_hl3])),\n",
    "                     'biases': tf.Variable(tf.random_normal([n_nodes_hl3]))}\n",
    "    \n",
    "    output_layer = {'weights': tf.Variable(tf.random_normal([n_nodes_hl3, n_classes])),\n",
    "                     'biases': tf.Variable(tf.random_normal([n_classes]))}\n",
    "    \n",
    "    l1=tf.add(tf.matmul(data, hidden1_layer['weights']), hidden1_layer['biases'])\n",
    "    l1=tf.nn.relu(l1)\n",
    "    \n",
    "    l2=tf.add(tf.matmul(l1, hidden2_layer['weights']), hidden2_layer['biases'])\n",
    "    l2=tf.nn.relu(l2)\n",
    "    \n",
    "    l3=tf.add(tf.matmul(l2, hidden3_layer['weights']), hidden3_layer['biases'])\n",
    "    l3=tf.nn.relu(l3)\n",
    "    \n",
    "    output=tf.matmul(l3, output_layer['weights']) + output_layer['biases']\n",
    "    \n",
    "    return output\n",
    "    "
   ]
  },
  {
   "cell_type": "code",
   "execution_count": 118,
   "metadata": {},
   "outputs": [],
   "source": [
    "def train_nn(x):\n",
    "    pred=nn_model(x)\n",
    "    cost=tf.reduce_mean(tf.nn.softmax_cross_entropy_with_logits(logits=pred,labels=y))\n",
    "    \n",
    "    optimzer = tf.train.AdamOptimizer().minimize(cost)\n",
    "    hm_epochs=5\n",
    "    \n",
    "    sess=tf.Session()\n",
    "    sess.run(tf.initialize_all_variables())\n",
    "    #writer = tf.summary.FileWriter(\"logs\", sess.graph)\n",
    "    \n",
    "    for epoch in range(hm_epochs):\n",
    "        epoch_loss=0\n",
    "        for _ in range(int(mnist.train.num_examples/batch_size)):\n",
    "            epx,epy = mnist.train.next_batch(batch_size)\n",
    "            _,c=sess.run([optimzer, cost], feed_dict={x:epx, y:epy})\n",
    "            epoch_loss += c\n",
    "        print 'Epoch', epoch, 'completed', 'loss:', epoch_loss\n",
    "\n",
    "    correct=tf.equal(tf.argmax(pred,1), tf.argmax(y,1))\n",
    "    accuray=tf.reduce_mean(tf.cast(correct,'float'))\n",
    "    print 'Accuracy:', accuray.eval({x:mnist.test.images, y:mnist.test.labels},session=sess)\n",
    "    sess.close()\n",
    "\n",
    "        \n",
    "            "
   ]
  },
  {
   "cell_type": "code",
   "execution_count": 119,
   "metadata": {
    "scrolled": false
   },
   "outputs": [
    {
     "name": "stdout",
     "output_type": "stream",
     "text": [
      "WARNING:tensorflow:From /usr/local/lib/python2.7/dist-packages/tensorflow/python/util/tf_should_use.py:175: initialize_all_variables (from tensorflow.python.ops.variables) is deprecated and will be removed after 2017-03-02.\n",
      "Instructions for updating:\n",
      "Use `tf.global_variables_initializer` instead.\n",
      "Epoch 0 completed loss: 128265.457748\n",
      "Epoch 1 completed loss: 26169.7218351\n",
      "Epoch 2 completed loss: 15973.1778803\n",
      "Epoch 3 completed loss: 11249.3500977\n",
      "Epoch 4 completed loss: 8373.52080107\n",
      "Accuracy: 0.7967\n"
     ]
    }
   ],
   "source": [
    "train_nn(x)"
   ]
  },
  {
   "cell_type": "code",
   "execution_count": null,
   "metadata": {
    "collapsed": true
   },
   "outputs": [],
   "source": []
  }
 ],
 "metadata": {
  "kernelspec": {
   "display_name": "Python 2",
   "language": "python",
   "name": "python2"
  },
  "language_info": {
   "codemirror_mode": {
    "name": "ipython",
    "version": 2
   },
   "file_extension": ".py",
   "mimetype": "text/x-python",
   "name": "python",
   "nbconvert_exporter": "python",
   "pygments_lexer": "ipython2",
   "version": "2.7.12"
  }
 },
 "nbformat": 4,
 "nbformat_minor": 2
}
