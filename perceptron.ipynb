{
 "cells": [
  {
   "cell_type": "code",
   "execution_count": 143,
   "metadata": {
    "collapsed": true
   },
   "outputs": [],
   "source": [
    "# https://deeplearningcourses.com/c/data-science-supervised-machine-learning-in-python\n",
    "# https://www.udemy.com/data-science-supervised-machine-learning-in-python\n",
    "import numpy as np\n",
    "import matplotlib.pyplot as plt\n",
    "import seaborn as sb\n",
    "import pandas as pd\n",
    "from datetime import datetime\n",
    "\n",
    "%matplotlib inline"
   ]
  },
  {
   "cell_type": "code",
   "execution_count": 144,
   "metadata": {
    "collapsed": true
   },
   "outputs": [],
   "source": [
    "class Perceptron:\n",
    "    def fit(self, X, Y, learning_rate=1.0, epochs=1000):\n",
    "\n",
    "        # initialize random weights\n",
    "        D = X.shape[1]\n",
    "        self.w = np.random.randn(D)\n",
    "        self.b = 0\n",
    "\n",
    "        N = len(Y)\n",
    "        costs = []\n",
    "        for epoch in range(epochs):\n",
    "            # determine which samples are misclassified, if any\n",
    "            Yhat = self.predict(X)\n",
    "            incorrect = np.nonzero(Y != Yhat)[0]\n",
    "            if len(incorrect) == 0:\n",
    "                # we are done!\n",
    "                break\n",
    "\n",
    "            # choose a random incorrect sample\n",
    "            i = np.random.choice(incorrect)\n",
    "            self.w += learning_rate*Y[i]*X[i]\n",
    "            self.b += learning_rate*Y[i]\n",
    "\n",
    "            # cost is incorrect rate\n",
    "            c = len(incorrect) / float(N)\n",
    "            costs.append(c)\n",
    "        print(\"final b:\", self.b, \"epochs:\", (epoch+1), \"/\", epochs)\n",
    "        \n",
    "        plt.plot(costs)\n",
    "        plt.show()\n",
    "\n",
    "    def predict(self, X):\n",
    "        return np.sign(X.dot(self.w) + self.b)\n",
    "\n",
    "    def score(self, X, Y):\n",
    "        P = self.predict(X)\n",
    "        return np.mean(P == Y)"
   ]
  },
  {
   "cell_type": "code",
   "execution_count": 145,
   "metadata": {},
   "outputs": [],
   "source": [
    "    # get the mnist data\n",
    "    def get_mnist(limit=None):\n",
    "        print(\"Reading data...\")\n",
    "        df = pd.read_csv('datasets/train.csv')\n",
    "        data = df.as_matrix()\n",
    "        np.random.shuffle(data)\n",
    "        X = data[:, 1:] / 255.0 # data is from 0..255\n",
    "        Y = data[:, 0]\n",
    "        if limit is not None:\n",
    "            X, Y = X[:limit], Y[:limit]\n",
    "        return X, Y"
   ]
  },
  {
   "cell_type": "code",
   "execution_count": 146,
   "metadata": {
    "scrolled": true
   },
   "outputs": [
    {
     "name": "stdout",
     "output_type": "stream",
     "text": [
      "Reading data...\n",
      "Training the model...\n",
      "final b: -0.58 epochs: 1000 / 1000\n"
     ]
    },
    {
     "data": {
      "image/png": "[encoded data removed]",
      "text/plain": [
       "<matplotlib.figure.Figure at 0x27f807709e8>"
      ]
     },
     "metadata": {},
     "output_type": "display_data"
    }
   ],
   "source": [
    "    # Pre-process the data\n",
    "    X, Y = get_mnist(5000)\n",
    "    Y[Y < 5] = -1\n",
    "    Y[Y >= 5] = 1\n",
    "    \n",
    "    # Splitting the dataset into the Training set and Test set\n",
    "    from sklearn.model_selection import train_test_split\n",
    "    X_train, X_test, y_train, y_test = train_test_split(X, Y, test_size = 0.1, random_state = 0)\n",
    "    \n",
    "    model = Perceptron()\n",
    "    print(\"Training the model...\")\n",
    "    model.fit(X_train, y_train, learning_rate=0.01, epochs=1000)\n",
    "    "
   ]
  },
  {
   "cell_type": "code",
   "execution_count": 155,
   "metadata": {
    "scrolled": true
   },
   "outputs": [
    {
     "name": "stdout",
     "output_type": "stream",
     "text": [
      "Prediction is less than 5\n"
     ]
    },
    {
     "data": {
      "image/png": "[encoded data removed]",
      "text/plain": [
       "<matplotlib.figure.Figure at 0x27f803e0da0>"
      ]
     },
     "metadata": {},
     "output_type": "display_data"
    }
   ],
   "source": [
    "    val=np.random.randint(0, 499)\n",
    "    pred=model.predict(X_test[val])\n",
    "    xx=X_test[val].reshape(28,28)\n",
    "    plt.imshow(xx)\n",
    "    print(\"Prediction is\", \"greater than or equal to 5\" if pred == 1 else \"less than 5\")"
   ]
  },
  {
   "cell_type": "code",
   "execution_count": 148,
   "metadata": {},
   "outputs": [
    {
     "name": "stdout",
     "output_type": "stream",
     "text": [
      "MNIST test accuracy: 0.732\n"
     ]
    }
   ],
   "source": [
    "    print(\"MNIST test accuracy:\", model.score(X_test, y_test))"
   ]
  }
 ],
 "metadata": {
  "kernelspec": {
   "display_name": "Python 3",
   "language": "python",
   "name": "python3"
  },
  "language_info": {
   "codemirror_mode": {
    "name": "ipython",
    "version": 3
   },
   "file_extension": ".py",
   "mimetype": "text/x-python",
   "name": "python",
   "nbconvert_exporter": "python",
   "pygments_lexer": "ipython3",
   "version": "3.6.1"
  }
 },
 "nbformat": 4,
 "nbformat_minor": 2
}
