{
 "cells": [
  {
   "cell_type": "markdown",
   "metadata": {},
   "source": [
    "### Importing the libraries"
   ]
  },
  {
   "cell_type": "code",
   "execution_count": 110,
   "metadata": {},
   "outputs": [
    {
     "data": {
      "text/plain": [
       "'%.2f'"
      ]
     },
     "execution_count": 110,
     "metadata": {},
     "output_type": "execute_result"
    }
   ],
   "source": [
    "import numpy as np\n",
    "import matplotlib.pyplot as plt\n",
    "import pandas as pd\n",
    "\n",
    "import warnings\n",
    "warnings.filterwarnings('ignore')\n",
    "\n",
    "%matplotlib inline\n",
    "%precision 2"
   ]
  },
  {
   "cell_type": "markdown",
   "metadata": {},
   "source": [
    "### Importing the dataset"
   ]
  },
  {
   "cell_type": "code",
   "execution_count": 111,
   "metadata": {},
   "outputs": [],
   "source": [
    "dataset = pd.read_csv('datasets/Churn_Modelling.csv')\n",
    "X = dataset.iloc[:, 3:13].values\n",
    "y = dataset.iloc[:, 13].values"
   ]
  },
  {
   "cell_type": "markdown",
   "metadata": {},
   "source": [
    "### Encoding categorical data"
   ]
  },
  {
   "cell_type": "code",
   "execution_count": 112,
   "metadata": {
    "collapsed": true
   },
   "outputs": [],
   "source": [
    "from sklearn.preprocessing import LabelEncoder, OneHotEncoder\n",
    "labelencoder_X_1 = LabelEncoder()\n",
    "X[:, 1] = labelencoder_X_1.fit_transform(X[:, 1])\n",
    "labelencoder_X_2 = LabelEncoder()\n",
    "X[:, 2] = labelencoder_X_2.fit_transform(X[:, 2])"
   ]
  },
  {
   "cell_type": "markdown",
   "metadata": {},
   "source": [
    "### One hot encoding"
   ]
  },
  {
   "cell_type": "code",
   "execution_count": 113,
   "metadata": {
    "collapsed": true
   },
   "outputs": [],
   "source": [
    "onehotencoder = OneHotEncoder(categorical_features = [1])\n",
    "X = onehotencoder.fit_transform(X).toarray()\n",
    "X = X[:, 1:]"
   ]
  },
  {
   "cell_type": "code",
   "execution_count": 114,
   "metadata": {
    "collapsed": true
   },
   "outputs": [],
   "source": [
    "# Splitting the dataset into the Training set and Test set\n",
    "from sklearn.model_selection import train_test_split\n",
    "X_train, X_test, y_train, y_test = train_test_split(X, y, test_size = 0.2, random_state = 0)"
   ]
  },
  {
   "cell_type": "markdown",
   "metadata": {},
   "source": [
    "### Feature Scaling"
   ]
  },
  {
   "cell_type": "code",
   "execution_count": 115,
   "metadata": {
    "collapsed": true
   },
   "outputs": [],
   "source": [
    "from sklearn.preprocessing import StandardScaler\n",
    "sc = StandardScaler()\n",
    "X_train = sc.fit_transform(X_train)\n",
    "X_test = sc.transform(X_test)"
   ]
  },
  {
   "cell_type": "markdown",
   "metadata": {},
   "source": [
    "### Get down to business"
   ]
  },
  {
   "cell_type": "code",
   "execution_count": 116,
   "metadata": {},
   "outputs": [],
   "source": [
    "import keras\n",
    "from keras.models import Sequential\n",
    "from keras.layers import Dense"
   ]
  },
  {
   "cell_type": "code",
   "execution_count": 117,
   "metadata": {},
   "outputs": [],
   "source": [
    "\n",
    "#Initialize the ANN\n",
    "classifier = Sequential()\n",
    "\n",
    "#Add layers\n",
    "classifier.add(Dense(output_dim=6, init='uniform', activation='relu', input_dim=11))\n",
    "classifier.add(Dense(output_dim=6, init='uniform', activation='relu'))\n",
    "classifier.add(Dense(output_dim=1, init='uniform', activation='sigmoid'))"
   ]
  },
  {
   "cell_type": "markdown",
   "metadata": {},
   "source": [
    "### Compile and fit the ANN"
   ]
  },
  {
   "cell_type": "code",
   "execution_count": 118,
   "metadata": {
    "collapsed": true
   },
   "outputs": [],
   "source": [
    "classifier.compile(optimizer='adam', loss='binary_crossentropy', metrics=['accuracy'])"
   ]
  },
  {
   "cell_type": "code",
   "execution_count": 119,
   "metadata": {},
   "outputs": [
    {
     "name": "stdout",
     "output_type": "stream",
     "text": [
      "Epoch 1/100\n",
      "8000/8000 [==============================] - 1s - loss: 0.4822 - acc: 0.7954     \n",
      "Epoch 2/100\n",
      "8000/8000 [==============================] - 1s - loss: 0.4139 - acc: 0.8161     \n",
      "Epoch 3/100\n",
      "8000/8000 [==============================] - 0s - loss: 0.3984 - acc: 0.8289     \n",
      "Epoch 4/100\n",
      "8000/8000 [==============================] - 0s - loss: 0.3881 - acc: 0.8299     \n",
      "Epoch 5/100\n",
      "8000/8000 [==============================] - 0s - loss: 0.3831 - acc: 0.8296     - ETA: 0s - loss: 0.3767 - \n",
      "Epoch 6/100\n",
      "8000/8000 [==============================] - 0s - loss: 0.3792 - acc: 0.8311     \n",
      "Epoch 7/100\n",
      "8000/8000 [==============================] - 0s - loss: 0.3754 - acc: 0.8359     \n",
      "Epoch 8/100\n",
      "8000/8000 [==============================] - 0s - loss: 0.3735 - acc: 0.8456     \n",
      "Epoch 9/100\n",
      "8000/8000 [==============================] - 0s - loss: 0.3705 - acc: 0.8495     \n",
      "Epoch 10/100\n",
      "8000/8000 [==============================] - 1s - loss: 0.3681 - acc: 0.8467     \n",
      "Epoch 11/100\n",
      "8000/8000 [==============================] - 0s - loss: 0.3662 - acc: 0.8505     \n",
      "Epoch 12/100\n",
      "8000/8000 [==============================] - 0s - loss: 0.3643 - acc: 0.8499     \n",
      "Epoch 13/100\n",
      "8000/8000 [==============================] - 0s - loss: 0.3628 - acc: 0.8531     - ETA: 0s - loss: 0.3679 - acc:\n",
      "Epoch 14/100\n",
      "8000/8000 [==============================] - 0s - loss: 0.3603 - acc: 0.8529     \n",
      "Epoch 15/100\n",
      "8000/8000 [==============================] - 1s - loss: 0.3589 - acc: 0.8527     \n",
      "Epoch 16/100\n",
      "8000/8000 [==============================] - 0s - loss: 0.3585 - acc: 0.8531     \n",
      "Epoch 17/100\n",
      "8000/8000 [==============================] - 1s - loss: 0.3569 - acc: 0.8512     \n",
      "Epoch 18/100\n",
      "8000/8000 [==============================] - 1s - loss: 0.3576 - acc: 0.8535     \n",
      "Epoch 19/100\n",
      "8000/8000 [==============================] - 1s - loss: 0.3556 - acc: 0.8549     \n",
      "Epoch 20/100\n",
      "8000/8000 [==============================] - 1s - loss: 0.3558 - acc: 0.8532     \n",
      "Epoch 21/100\n",
      "8000/8000 [==============================] - 0s - loss: 0.3542 - acc: 0.8545     \n",
      "Epoch 22/100\n",
      "8000/8000 [==============================] - 1s - loss: 0.3542 - acc: 0.8540     \n",
      "Epoch 23/100\n",
      "8000/8000 [==============================] - 1s - loss: 0.3532 - acc: 0.8575     \n",
      "Epoch 24/100\n",
      "8000/8000 [==============================] - 0s - loss: 0.3533 - acc: 0.8566     \n",
      "Epoch 25/100\n",
      "8000/8000 [==============================] - 1s - loss: 0.3537 - acc: 0.8552     \n",
      "Epoch 26/100\n",
      "8000/8000 [==============================] - 0s - loss: 0.3523 - acc: 0.8562     \n",
      "Epoch 27/100\n",
      "8000/8000 [==============================] - 0s - loss: 0.3524 - acc: 0.8557     \n",
      "Epoch 28/100\n",
      "8000/8000 [==============================] - 1s - loss: 0.3523 - acc: 0.8582     \n",
      "Epoch 29/100\n",
      "8000/8000 [==============================] - 1s - loss: 0.3518 - acc: 0.8566     \n",
      "Epoch 30/100\n",
      "8000/8000 [==============================] - 1s - loss: 0.3511 - acc: 0.8579     \n",
      "Epoch 31/100\n",
      "8000/8000 [==============================] - 1s - loss: 0.3511 - acc: 0.8582     \n",
      "Epoch 32/100\n",
      "8000/8000 [==============================] - 0s - loss: 0.3511 - acc: 0.8577     \n",
      "Epoch 33/100\n",
      "8000/8000 [==============================] - 1s - loss: 0.3499 - acc: 0.8567     \n",
      "Epoch 34/100\n",
      "8000/8000 [==============================] - 0s - loss: 0.3498 - acc: 0.8555     \n",
      "Epoch 35/100\n",
      "8000/8000 [==============================] - 0s - loss: 0.3509 - acc: 0.8576     \n",
      "Epoch 36/100\n",
      "8000/8000 [==============================] - 0s - loss: 0.3503 - acc: 0.8570     \n",
      "Epoch 37/100\n",
      "8000/8000 [==============================] - 0s - loss: 0.3497 - acc: 0.8569     - ETA: 1s - loss: 0\n",
      "Epoch 38/100\n",
      "8000/8000 [==============================] - 0s - loss: 0.3495 - acc: 0.8585     \n",
      "Epoch 39/100\n",
      "8000/8000 [==============================] - 0s - loss: 0.3496 - acc: 0.8555     \n",
      "Epoch 40/100\n",
      "8000/8000 [==============================] - 0s - loss: 0.3492 - acc: 0.8587     \n",
      "Epoch 41/100\n",
      "8000/8000 [==============================] - 0s - loss: 0.3489 - acc: 0.8571     \n",
      "Epoch 42/100\n",
      "8000/8000 [==============================] - 0s - loss: 0.3469 - acc: 0.8574     \n",
      "Epoch 43/100\n",
      "8000/8000 [==============================] - 0s - loss: 0.3490 - acc: 0.8587     - ETA: 0s - loss: 0.3582 -\n",
      "Epoch 44/100\n",
      "8000/8000 [==============================] - 0s - loss: 0.3489 - acc: 0.8562     \n",
      "Epoch 45/100\n",
      "8000/8000 [==============================] - 1s - loss: 0.3483 - acc: 0.8606     - ETA: 0s - loss: 0.3498 - a - ETA: 0s - loss: 0.3470 - acc: 0.8\n",
      "Epoch 46/100\n",
      "8000/8000 [==============================] - 0s - loss: 0.3483 - acc: 0.8595     \n",
      "Epoch 47/100\n",
      "8000/8000 [==============================] - 0s - loss: 0.3486 - acc: 0.8610     \n",
      "Epoch 48/100\n",
      "8000/8000 [==============================] - 0s - loss: 0.3483 - acc: 0.8591     \n",
      "Epoch 49/100\n",
      "8000/8000 [==============================] - 0s - loss: 0.3488 - acc: 0.8586     - ETA: 0s - loss: 0.3530 - a\n",
      "Epoch 50/100\n",
      "8000/8000 [==============================] - 0s - loss: 0.3477 - acc: 0.8594     \n",
      "Epoch 51/100\n",
      "8000/8000 [==============================] - 0s - loss: 0.3474 - acc: 0.8602     \n",
      "Epoch 52/100\n",
      "8000/8000 [==============================] - 0s - loss: 0.3472 - acc: 0.8571     \n",
      "Epoch 53/100\n",
      "8000/8000 [==============================] - 0s - loss: 0.3472 - acc: 0.8589     \n",
      "Epoch 54/100\n",
      "8000/8000 [==============================] - 0s - loss: 0.3471 - acc: 0.8589     \n",
      "Epoch 55/100\n",
      "8000/8000 [==============================] - 0s - loss: 0.3468 - acc: 0.8586     \n",
      "Epoch 56/100\n",
      "8000/8000 [==============================] - 1s - loss: 0.3469 - acc: 0.8582     \n",
      "Epoch 57/100\n",
      "8000/8000 [==============================] - 1s - loss: 0.3470 - acc: 0.8580     \n",
      "Epoch 58/100\n",
      "8000/8000 [==============================] - 0s - loss: 0.3463 - acc: 0.8586     \n",
      "Epoch 59/100\n",
      "8000/8000 [==============================] - 0s - loss: 0.3463 - acc: 0.8606     \n",
      "Epoch 60/100\n",
      "8000/8000 [==============================] - 1s - loss: 0.3473 - acc: 0.8595     \n",
      "Epoch 61/100\n",
      "8000/8000 [==============================] - 1s - loss: 0.3461 - acc: 0.8575     \n",
      "Epoch 62/100\n",
      "8000/8000 [==============================] - 1s - loss: 0.3460 - acc: 0.8586     \n",
      "Epoch 63/100\n",
      "8000/8000 [==============================] - 1s - loss: 0.3463 - acc: 0.8600     \n",
      "Epoch 64/100\n",
      "8000/8000 [==============================] - 1s - loss: 0.3459 - acc: 0.8590     \n",
      "Epoch 65/100\n",
      "8000/8000 [==============================] - 1s - loss: 0.3463 - acc: 0.8575     \n",
      "Epoch 66/100\n",
      "8000/8000 [==============================] - 1s - loss: 0.3463 - acc: 0.8601     - ETA: 0s - loss: 0.3476 - acc: 0.859\n",
      "Epoch 67/100\n",
      "8000/8000 [==============================] - 1s - loss: 0.3457 - acc: 0.8582     \n",
      "Epoch 68/100\n",
      "8000/8000 [==============================] - 1s - loss: 0.3455 - acc: 0.8570     \n",
      "Epoch 69/100\n",
      "8000/8000 [==============================] - 1s - loss: 0.3463 - acc: 0.8571     \n",
      "Epoch 70/100\n",
      "8000/8000 [==============================] - 1s - loss: 0.3452 - acc: 0.8602     \n",
      "Epoch 71/100\n",
      "8000/8000 [==============================] - 1s - loss: 0.3452 - acc: 0.8606     \n",
      "Epoch 72/100\n",
      "8000/8000 [==============================] - 1s - loss: 0.3456 - acc: 0.8605     \n",
      "Epoch 73/100\n",
      "8000/8000 [==============================] - 1s - loss: 0.3454 - acc: 0.8592     \n",
      "Epoch 74/100\n",
      "8000/8000 [==============================] - 1s - loss: 0.3452 - acc: 0.8575     \n",
      "Epoch 75/100\n",
      "8000/8000 [==============================] - 1s - loss: 0.3451 - acc: 0.8585     \n",
      "Epoch 76/100\n",
      "8000/8000 [==============================] - 1s - loss: 0.3461 - acc: 0.8589     \n",
      "Epoch 77/100\n",
      "8000/8000 [==============================] - 1s - loss: 0.3450 - acc: 0.8595     - ETA: 1s - los\n",
      "Epoch 78/100\n",
      "8000/8000 [==============================] - 1s - loss: 0.3460 - acc: 0.8561     \n",
      "Epoch 79/100\n",
      "8000/8000 [==============================] - 1s - loss: 0.3456 - acc: 0.8574     \n",
      "Epoch 80/100\n",
      "8000/8000 [==============================] - 1s - loss: 0.3454 - acc: 0.8587     - ETA: 0s - loss: 0.\n",
      "Epoch 81/100\n",
      "8000/8000 [==============================] - 1s - loss: 0.3442 - acc: 0.8599     \n",
      "Epoch 82/100\n",
      "8000/8000 [==============================] - 1s - loss: 0.3451 - acc: 0.8582     \n",
      "Epoch 83/100\n",
      "8000/8000 [==============================] - 1s - loss: 0.3443 - acc: 0.8609     \n",
      "Epoch 84/100\n"
     ]
    },
    {
     "name": "stdout",
     "output_type": "stream",
     "text": [
      "8000/8000 [==============================] - 1s - loss: 0.3439 - acc: 0.8611     \n",
      "Epoch 85/100\n",
      "8000/8000 [==============================] - 1s - loss: 0.3442 - acc: 0.8606     \n",
      "Epoch 86/100\n",
      "8000/8000 [==============================] - 1s - loss: 0.3441 - acc: 0.8601     \n",
      "Epoch 87/100\n",
      "8000/8000 [==============================] - 1s - loss: 0.3443 - acc: 0.8604     \n",
      "Epoch 88/100\n",
      "8000/8000 [==============================] - 1s - loss: 0.3443 - acc: 0.8601     \n",
      "Epoch 89/100\n",
      "8000/8000 [==============================] - 1s - loss: 0.3442 - acc: 0.8606     \n",
      "Epoch 90/100\n",
      "8000/8000 [==============================] - 1s - loss: 0.3450 - acc: 0.8585     \n",
      "Epoch 91/100\n",
      "8000/8000 [==============================] - 1s - loss: 0.3447 - acc: 0.8594     \n",
      "Epoch 92/100\n",
      "8000/8000 [==============================] - 1s - loss: 0.3449 - acc: 0.8571     \n",
      "Epoch 93/100\n",
      "8000/8000 [==============================] - 1s - loss: 0.3444 - acc: 0.8602     \n",
      "Epoch 94/100\n",
      "8000/8000 [==============================] - 1s - loss: 0.3444 - acc: 0.8597     \n",
      "Epoch 95/100\n",
      "8000/8000 [==============================] - 1s - loss: 0.3448 - acc: 0.8589     \n",
      "Epoch 96/100\n",
      "8000/8000 [==============================] - 1s - loss: 0.3439 - acc: 0.8609     \n",
      "Epoch 97/100\n",
      "8000/8000 [==============================] - 1s - loss: 0.3442 - acc: 0.8586     \n",
      "Epoch 98/100\n",
      "8000/8000 [==============================] - 1s - loss: 0.3441 - acc: 0.8597     \n",
      "Epoch 99/100\n",
      "8000/8000 [==============================] - 1s - loss: 0.3448 - acc: 0.8596     \n",
      "Epoch 100/100\n",
      "8000/8000 [==============================] - 1s - loss: 0.3450 - acc: 0.8584     \n"
     ]
    },
    {
     "data": {
      "text/plain": [
       "<keras.callbacks.History at 0x1ccfa0e51d0>"
      ]
     },
     "execution_count": 119,
     "metadata": {},
     "output_type": "execute_result"
    }
   ],
   "source": [
    "classifier.fit(X_train, y_train, batch_size=10, nb_epoch=100)"
   ]
  },
  {
   "cell_type": "markdown",
   "metadata": {},
   "source": [
    "y_pred = classifier.predict(X_test)\n",
    "y_p = y_pred > 0.5"
   ]
  },
  {
   "cell_type": "code",
   "execution_count": 126,
   "metadata": {
    "collapsed": true
   },
   "outputs": [],
   "source": [
    "from sklearn.metrics import confusion_matrix\n",
    "cm=confusion_matrix(y_test,y_p)\n"
   ]
  },
  {
   "cell_type": "code",
   "execution_count": 127,
   "metadata": {},
   "outputs": [
    {
     "data": {
      "text/plain": [
       "array([[1509,   86],\n",
       "       [ 195,  210]])"
      ]
     },
     "execution_count": 127,
     "metadata": {},
     "output_type": "execute_result"
    }
   ],
   "source": [
    "cm"
   ]
  },
  {
   "cell_type": "markdown",
   "metadata": {},
   "source": [
    "### The accuracy is "
   ]
  },
  {
   "cell_type": "code",
   "execution_count": 130,
   "metadata": {},
   "outputs": [
    {
     "data": {
      "text/plain": [
       "85.95"
      ]
     },
     "execution_count": 130,
     "metadata": {},
     "output_type": "execute_result"
    }
   ],
   "source": [
    "(1509 + 210)/(1509 + 86 + 210 + 195)*100"
   ]
  },
  {
   "cell_type": "code",
   "execution_count": null,
   "metadata": {
    "collapsed": true
   },
   "outputs": [],
   "source": []
  }
 ],
 "metadata": {
  "kernelspec": {
   "display_name": "Python 3",
   "language": "python",
   "name": "python3"
  },
  "language_info": {
   "codemirror_mode": {
    "name": "ipython",
    "version": 3
   },
   "file_extension": ".py",
   "mimetype": "text/x-python",
   "name": "python",
   "nbconvert_exporter": "python",
   "pygments_lexer": "ipython3",
   "version": "3.6.1"
  }
 },
 "nbformat": 4,
 "nbformat_minor": 2
}
